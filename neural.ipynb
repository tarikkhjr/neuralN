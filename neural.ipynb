{
 "cells": [
  {
   "cell_type": "code",
   "execution_count": 2,
   "id": "e9b011af",
   "metadata": {},
   "outputs": [
    {
     "name": "stdout",
     "output_type": "stream",
     "text": [
      "   PassengerId  Survived  Pclass                     Name   Sex   Age  SibSp  \\\n",
      "0            1         0       3  Braund, Mr. Owen Harris  male  22.0      1   \n",
      "\n",
      "   Parch     Ticket  Fare Cabin Embarked  \n",
      "0      0  A/5 21171  7.25   NaN        S  \n"
     ]
    }
   ],
   "source": [
    "import pandas as pd\n",
    "df = pd.read_csv('projet.csv')\n",
    "print(df.head(1))"
   ]
  },
  {
   "cell_type": "code",
   "execution_count": 3,
   "id": "80efcac1",
   "metadata": {},
   "outputs": [
    {
     "name": "stdout",
     "output_type": "stream",
     "text": [
      "0      0\n",
      "1      1\n",
      "2      1\n",
      "3      1\n",
      "4      0\n",
      "      ..\n",
      "886    0\n",
      "887    1\n",
      "888    0\n",
      "889    1\n",
      "890    0\n",
      "Name: Survived, Length: 891, dtype: int64\n"
     ]
    }
   ],
   "source": [
    "data = df.drop(['Survived' , 'PassengerId' , 'Name' , 'Age', 'Ticket' , 'Cabin'  , 'Embarked'] , axis = 1)\n",
    "#Convertir une variable en plusieurs variables\n",
    "dataset = pd.get_dummies(data , columns = ['Sex']  , drop_first = True) \n",
    "properties = list(dataset.columns.values)\n",
    "X = dataset[properties]\n",
    "y = df['Survived']\n",
    "print(y)"
   ]
  },
  {
   "cell_type": "code",
   "execution_count": 4,
   "id": "65f75169",
   "metadata": {},
   "outputs": [],
   "source": [
    "from sklearn.model_selection import train_test_split\n",
    "X_train, X_test, y_train, y_test = train_test_split(X, y, test_size=0.3)"
   ]
  },
  {
   "cell_type": "code",
   "execution_count": 5,
   "id": "a6a46bcc",
   "metadata": {},
   "outputs": [],
   "source": [
    "import tensorflow as tf\n",
    "from tensorflow import keras\n",
    "from tensorflow.keras import layers\n",
    "\n",
    "\n",
    "model = keras.Sequential([\n",
    "    keras.layers.Flatten(input_shape=(X.shape[1],)),\n",
    "    keras.layers.Dense(16, activation=tf.nn.relu),\n",
    "\tkeras.layers.Dense(16, activation=tf.nn.relu),\n",
    "    keras.layers.Dense(16, activation=tf.nn.relu),\n",
    "    keras.layers.Dense(1, activation=tf.nn.sigmoid),\n",
    "])"
   ]
  },
  {
   "cell_type": "code",
   "execution_count": 6,
   "id": "8e1ee521",
   "metadata": {},
   "outputs": [],
   "source": [
    "model.compile(optimizer='adam',loss='binary_crossentropy',metrics=['accuracy'])"
   ]
  },
  {
   "cell_type": "code",
   "execution_count": 7,
   "id": "f532984a",
   "metadata": {},
   "outputs": [
    {
     "name": "stdout",
     "output_type": "stream",
     "text": [
      "Epoch 1/10\n",
      "623/623 [==============================] - 4s 4ms/step - loss: 0.6541 - accuracy: 0.6549\n",
      "Epoch 2/10\n",
      "623/623 [==============================] - 3s 4ms/step - loss: 0.5693 - accuracy: 0.6966\n",
      "Epoch 3/10\n",
      "623/623 [==============================] - 3s 4ms/step - loss: 0.5650 - accuracy: 0.7159\n",
      "Epoch 4/10\n",
      "623/623 [==============================] - 3s 4ms/step - loss: 0.5423 - accuracy: 0.7335\n",
      "Epoch 5/10\n",
      "623/623 [==============================] - 3s 4ms/step - loss: 0.5285 - accuracy: 0.7496\n",
      "Epoch 6/10\n",
      "623/623 [==============================] - 3s 4ms/step - loss: 0.5142 - accuracy: 0.7592: 0s - loss: 0.5110 - accuracy:  - ETA: 0s - loss: 0.504\n",
      "Epoch 7/10\n",
      "623/623 [==============================] - 3s 4ms/step - loss: 0.4983 - accuracy: 0.7624\n",
      "Epoch 8/10\n",
      "623/623 [==============================] - ETA: 0s - loss: 0.5083 - accuracy: 0.76 - 3s 5ms/step - loss: 0.5125 - accuracy: 0.7592\n",
      "Epoch 9/10\n",
      "623/623 [==============================] - 3s 5ms/step - loss: 0.5043 - accuracy: 0.7705: 0s - loss: 0.4960 - accu\n",
      "Epoch 10/10\n",
      "623/623 [==============================] - 3s 4ms/step - loss: 0.5021 - accuracy: 0.7737: 0s - loss: 0.5063 - accu\n",
      "9/9 [==============================] - 1s 5ms/step - loss: 0.5023 - accuracy: 0.7799\n"
     ]
    }
   ],
   "source": [
    "model.fit(X_train, y_train, epochs=10, batch_size=1)\n",
    "test_loss, test_acc = model.evaluate(X_test, y_test)"
   ]
  },
  {
   "cell_type": "code",
   "execution_count": 8,
   "id": "cc74563f",
   "metadata": {},
   "outputs": [
    {
     "name": "stdout",
     "output_type": "stream",
     "text": [
      "     Pclass  SibSp  Parch      Fare  Sex_male\n",
      "835       1      1      1   83.1583         0\n",
      "659       1      0      2  113.2750         1\n",
      "240       3      1      0   14.4542         0\n",
      "51        3      0      0    7.8000         1\n",
      "218       1      0      0   76.2917         0\n",
      "..      ...    ...    ...       ...       ...\n",
      "371       3      1      0    6.4958         1\n",
      "680       3      0      0    8.1375         0\n",
      "848       2      0      1   33.0000         1\n",
      "687       3      0      0   10.1708         1\n",
      "809       1      1      0   53.1000         0\n",
      "\n",
      "[268 rows x 5 columns]\n"
     ]
    }
   ],
   "source": [
    "print(X_test)"
   ]
  },
  {
   "cell_type": "code",
   "execution_count": 9,
   "id": "3a8c5ff6",
   "metadata": {},
   "outputs": [
    {
     "name": "stdout",
     "output_type": "stream",
     "text": [
      "835    1\n",
      "659    0\n",
      "240    0\n",
      "51     0\n",
      "218    1\n",
      "      ..\n",
      "371    0\n",
      "680    0\n",
      "848    0\n",
      "687    0\n",
      "809    1\n",
      "Name: Survived, Length: 268, dtype: int64\n"
     ]
    }
   ],
   "source": [
    "print(y_test)"
   ]
  },
  {
   "cell_type": "code",
   "execution_count": 10,
   "id": "7709eeb8",
   "metadata": {},
   "outputs": [
    {
     "name": "stdout",
     "output_type": "stream",
     "text": [
      "[[0.12708926]\n",
      " [0.09844995]\n",
      " [0.9234461 ]\n",
      " [0.7307353 ]]\n"
     ]
    }
   ],
   "source": [
    "import numpy as np\n",
    "a= np.array([[3,0,0,14.4583,1],[3,0,0,7.5500,1],[1,1,0,146.5208,0],[3,0,2,15.2458,0]])\n",
    "print(model.predict(a))"
   ]
  },
  {
   "cell_type": "code",
   "execution_count": 11,
   "id": "a0842d8f",
   "metadata": {},
   "outputs": [
    {
     "name": "stdout",
     "output_type": "stream",
     "text": [
      "[[0]\n",
      " [0]\n",
      " [1]\n",
      " [1]]\n"
     ]
    }
   ],
   "source": [
    "#(model.predict(X) > 0.5).astype(int)\n",
    "print((model.predict(a) > 0.5).astype(int))"
   ]
  },
  {
   "cell_type": "code",
   "execution_count": null,
   "id": "dc4bc7a3",
   "metadata": {},
   "outputs": [],
   "source": []
  }
 ],
 "metadata": {
  "kernelspec": {
   "display_name": "Python 3 (ipykernel)",
   "language": "python",
   "name": "python3"
  },
  "language_info": {
   "codemirror_mode": {
    "name": "ipython",
    "version": 3
   },
   "file_extension": ".py",
   "mimetype": "text/x-python",
   "name": "python",
   "nbconvert_exporter": "python",
   "pygments_lexer": "ipython3",
   "version": "3.9.12"
  }
 },
 "nbformat": 4,
 "nbformat_minor": 5
}
