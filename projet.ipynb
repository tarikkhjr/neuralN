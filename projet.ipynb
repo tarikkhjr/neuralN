{
 "cells": [
  {
   "cell_type": "code",
   "execution_count": 17,
   "id": "4113e097",
   "metadata": {},
   "outputs": [
    {
     "name": "stdout",
     "output_type": "stream",
     "text": [
      "   PassengerId  Survived  Pclass                     Name   Sex   Age  SibSp  \\\n",
      "0            1         0       3  Braund, Mr. Owen Harris  male  22.0      1   \n",
      "\n",
      "   Parch     Ticket  Fare Cabin Embarked  \n",
      "0      0  A/5 21171  7.25   NaN        S  \n"
     ]
    }
   ],
   "source": [
    "import pandas as pd\n",
    "df = pd.read_csv('projet.csv')\n",
    "print(df.head(1))"
   ]
  },
  {
   "cell_type": "code",
   "execution_count": 18,
   "id": "41046a8a",
   "metadata": {},
   "outputs": [
    {
     "name": "stdout",
     "output_type": "stream",
     "text": [
      "   PassengerId  Pclass   Age  SibSp  Parch  Fare  Sex_female  Sex_male  \\\n",
      "0            1       3  22.0      1      0  7.25           0         1   \n",
      "\n",
      "   Embarked_C  Embarked_Q  Embarked_S  \n",
      "0           0           0           1  \n"
     ]
    }
   ],
   "source": [
    "data = df.drop(['Survived' , 'Name' , 'Ticket' ,'Cabin'] , axis = 1)\n",
    "# Convertir une variable en plusieurs variables\n",
    "dataset = pd.get_dummies(data , columns = ['Sex' , 'Embarked']) \n",
    "y = df['Survived']\n",
    "\n",
    "print(dataset.head(1))"
   ]
  },
  {
   "cell_type": "code",
   "execution_count": 19,
   "id": "a20f5e2a",
   "metadata": {},
   "outputs": [
    {
     "name": "stdout",
     "output_type": "stream",
     "text": [
      "     PassengerId  Pclass   Age  SibSp  Parch     Fare  Sex_female  Sex_male  \\\n",
      "105          106       3  28.0      0      0   7.8958           0         1   \n",
      "68            69       3  17.0      4      2   7.9250           1         0   \n",
      "253          254       3  30.0      1      0  16.1000           0         1   \n",
      "320          321       3  22.0      0      0   7.2500           0         1   \n",
      "706          707       2  45.0      0      0  13.5000           1         0   \n",
      "..           ...     ...   ...    ...    ...      ...         ...       ...   \n",
      "835          836       1  39.0      1      1  83.1583           1         0   \n",
      "192          193       3  19.0      1      0   7.8542           1         0   \n",
      "629          630       3   NaN      0      0   7.7333           0         1   \n",
      "559          560       3  36.0      1      0  17.4000           1         0   \n",
      "684          685       2  60.0      1      1  39.0000           0         1   \n",
      "\n",
      "     Embarked_C  Embarked_Q  Embarked_S  \n",
      "105           0           0           1  \n",
      "68            0           0           1  \n",
      "253           0           0           1  \n",
      "320           0           0           1  \n",
      "706           0           0           1  \n",
      "..          ...         ...         ...  \n",
      "835           1           0           0  \n",
      "192           0           0           1  \n",
      "629           0           1           0  \n",
      "559           0           0           1  \n",
      "684           0           0           1  \n",
      "\n",
      "[668 rows x 11 columns]\n"
     ]
    }
   ],
   "source": [
    "from sklearn.model_selection import train_test_split\n",
    "X_train , X_test , y_train , y_test = train_test_split(dataset , y , test_size = 0.25 , random_state = 0)\n",
    "print(X_train)"
   ]
  },
  {
   "cell_type": "code",
   "execution_count": 20,
   "id": "3257b73e",
   "metadata": {},
   "outputs": [],
   "source": [
    "import tensorflow as tf\n",
    "from tensorflow import keras\n",
    "from tensorflow.keras import layers\n",
    "model = keras.Sequential()\n",
    "model.add(layers.Dense(22 , activation=\"relu\" , input_dim = X_train.shape[1] ))\n",
    "model.add(layers.Dense(22 , activation=\"relu\"))\n",
    "model.add(layers.Dense(1  , activation=\"relu\"))"
   ]
  },
  {
   "cell_type": "code",
   "execution_count": 21,
   "id": "9bc5f30e",
   "metadata": {},
   "outputs": [
    {
     "name": "stdout",
     "output_type": "stream",
     "text": [
      "Epoch 1/50\n",
      "668/668 [==============================] - 4s 4ms/step - loss: 0.3862 - accuracy: 0.6138\n",
      "Epoch 2/50\n",
      "668/668 [==============================] - 2s 4ms/step - loss: 0.3862 - accuracy: 0.6138: 0s - loss: 0.3776 - accuracy: 0.62 - ETA: 0s - loss: 0.3815 - accuracy: 0.61 - ETA: 0s - loss: 0.3768 \n",
      "Epoch 3/50\n",
      "668/668 [==============================] - 2s 4ms/step - loss: 0.3862 - accuracy: 0.6138\n",
      "Epoch 4/50\n",
      "668/668 [==============================] - 2s 4ms/step - loss: 0.3862 - accuracy: 0.6138\n",
      "Epoch 5/50\n",
      "668/668 [==============================] - 2s 4ms/step - loss: 0.3862 - accuracy: 0.6138: 0s - loss: 0.3913 - ac\n",
      "Epoch 6/50\n",
      "668/668 [==============================] - 3s 4ms/step - loss: 0.3862 - accuracy: 0.6138: 1s - loss: 0 - ETA: 1s - loss: 0.3 - ETA: 0s - loss:\n",
      "Epoch 7/50\n",
      "668/668 [==============================] - 3s 4ms/step - loss: 0.3862 - accuracy: 0.6138\n",
      "Epoch 8/50\n",
      "668/668 [==============================] - 2s 4ms/step - loss: 0.3862 - accuracy: 0.6138\n",
      "Epoch 9/50\n",
      "668/668 [==============================] - 3s 4ms/step - loss: 0.3862 - accuracy: 0.6138\n",
      "Epoch 10/50\n",
      "668/668 [==============================] - 3s 4ms/step - loss: 0.3862 - accuracy: 0.6138: 1s - loss: 0.3238  - ETA: 0s - loss: 0.3849 - accuracy: \n",
      "Epoch 11/50\n",
      "668/668 [==============================] - 3s 4ms/step - loss: 0.3862 - accuracy: 0.6138: 0s - ETA: 0s - loss: 0.3877 - accuracy: 0.\n",
      "Epoch 12/50\n",
      "668/668 [==============================] - 3s 4ms/step - loss: 0.3862 - accuracy: 0.6138: 1s - l - ETA: 0s - loss: 0.3874 - ac\n",
      "Epoch 13/50\n",
      "668/668 [==============================] - 2s 4ms/step - loss: 0.3862 - accuracy: 0.6138\n",
      "Epoch 14/50\n",
      "668/668 [==============================] - 3s 4ms/step - loss: 0.3862 - accuracy: 0.6138: 0s -\n",
      "Epoch 15/50\n",
      "668/668 [==============================] - 3s 4ms/step - loss: 0.3862 - accuracy: 0.6138: 1s - l - ETA: 0s -\n",
      "Epoch 16/50\n",
      "668/668 [==============================] - 3s 4ms/step - loss: 0.3862 - accuracy: 0.6138: 0s - loss: 0.3778 - ac\n",
      "Epoch 17/50\n",
      "668/668 [==============================] - 2s 4ms/step - loss: 0.3862 - accuracy: 0.6138\n",
      "Epoch 18/50\n",
      "668/668 [==============================] - 2s 4ms/step - loss: 0.3862 - accuracy: 0.6138\n",
      "Epoch 19/50\n",
      "668/668 [==============================] - 3s 4ms/step - loss: 0.3862 - accuracy: 0.6138\n",
      "Epoch 20/50\n",
      "668/668 [==============================] - 3s 4ms/step - loss: 0.3862 - accuracy: 0.6138\n",
      "Epoch 21/50\n",
      "668/668 [==============================] - 3s 4ms/step - loss: 0.3862 - accuracy: 0.6138\n",
      "Epoch 22/50\n",
      "668/668 [==============================] - 3s 4ms/step - loss: 0.3862 - accuracy: 0.6138: 0s - loss: 0.413 - ETA: 0s - loss: 0.3865 - accuracy: 0.61 - ETA: 0s - loss: 0.3872 - ac\n",
      "Epoch 23/50\n",
      "668/668 [==============================] - 2s 4ms/step - loss: 0.3862 - accuracy: 0.6138\n",
      "Epoch 24/50\n",
      "668/668 [==============================] - 3s 4ms/step - loss: 0.3862 - accuracy: 0.6138\n",
      "Epoch 25/50\n",
      "668/668 [==============================] - 3s 4ms/step - loss: 0.3862 - accuracy: 0.6138\n",
      "Epoch 26/50\n",
      "668/668 [==============================] - 3s 4ms/step - loss: 0.3862 - accuracy: 0.6138: 0s - loss: 0.3887 - accuracy: \n",
      "Epoch 27/50\n",
      "668/668 [==============================] - 3s 4ms/step - loss: 0.3862 - accuracy: 0.6138\n",
      "Epoch 28/50\n",
      "668/668 [==============================] - 3s 4ms/step - loss: 0.3862 - accuracy: 0.6138\n",
      "Epoch 29/50\n",
      "668/668 [==============================] - 3s 5ms/step - loss: 0.3862 - accuracy: 0.6138: 0s - loss: 0.3731 - \n",
      "Epoch 30/50\n",
      "668/668 [==============================] - 3s 5ms/step - loss: 0.3862 - accuracy: 0.6138\n",
      "Epoch 31/50\n",
      "668/668 [==============================] - 3s 4ms/step - loss: 0.3862 - accuracy: 0.6138\n",
      "Epoch 32/50\n",
      "668/668 [==============================] - 2s 3ms/step - loss: 0.3862 - accuracy: 0.6138\n",
      "Epoch 33/50\n",
      "668/668 [==============================] - 2s 3ms/step - loss: 0.3862 - accuracy: 0.6138\n",
      "Epoch 34/50\n",
      "668/668 [==============================] - 4s 6ms/step - loss: 0.3862 - accuracy: 0.6138: 1s - los - ETA: 0s - loss: 0.3812 - accura - ETA: 0s - loss:\n",
      "Epoch 35/50\n",
      "668/668 [==============================] - 5s 7ms/step - loss: 0.3862 - accuracy: 0.6138: 0s - loss: 0.3854 - accu\n",
      "Epoch 36/50\n",
      "668/668 [==============================] - 3s 5ms/step - loss: 0.3862 - accuracy: 0.6138:  - ETA: 1s - los - E\n",
      "Epoch 37/50\n",
      "668/668 [==============================] - ETA: 0s - loss: 0.3881 - accuracy: 0.61 - 3s 4ms/step - loss: 0.3862 - accuracy: 0.6138\n",
      "Epoch 38/50\n",
      "668/668 [==============================] - ETA: 0s - loss: 0.3870 - accuracy: 0.6130 ETA: 1s - loss: 0.3824 - accuracy:  - ETA: 1s - l - ETA: 0s - loss: 0.3818  - 3s 4ms/step - loss: 0.3862 - accuracy: 0.6138\n",
      "Epoch 39/50\n",
      "668/668 [==============================] - 3s 4ms/step - loss: 0.3862 - accuracy: 0.6138: 0s - loss: 0.3909 - accuracy:  - ETA: 0s - loss: 0.3974 - accura\n",
      "Epoch 40/50\n",
      "668/668 [==============================] - 5s 7ms/step - loss: 0.3862 - accuracy: 0.6138\n",
      "Epoch 41/50\n",
      "668/668 [==============================] - 4s 6ms/step - loss: 0.3862 - accuracy: 0.6138\n",
      "Epoch 42/50\n",
      "668/668 [==============================] - 5s 7ms/step - loss: 0.3862 - accuracy: 0.6138: 1s - loss: 0.4029 - ac - ETA: 1s - loss: - ETA: 0s - loss: 0.3845 - accuracy: 0.\n",
      "Epoch 43/50\n",
      "668/668 [==============================] - 3s 4ms/step - loss: 0.3862 - accuracy: 0.6138: 0s - loss: 0.4069 - ac\n",
      "Epoch 44/50\n",
      "668/668 [==============================] - 2s 3ms/step - loss: 0.3862 - accuracy: 0.6138\n",
      "Epoch 45/50\n",
      "668/668 [==============================] - 4s 7ms/step - loss: 0.3862 - accuracy: 0.6138\n",
      "Epoch 46/50\n",
      "668/668 [==============================] - ETA: 0s - loss: 0.3865 - accuracy: 0.61 - 5s 7ms/step - loss: 0.3862 - accuracy: 0.6138\n",
      "Epoch 47/50\n",
      "668/668 [==============================] - 5s 7ms/step - loss: 0.3862 - accuracy: 0.6138: 1s - loss: 0.3918  - ETA: 1s - loss: 0 - ETA: 0s - loss: 0.397\n",
      "Epoch 48/50\n",
      "668/668 [==============================] - 4s 7ms/step - loss: 0.3862 - accuracy: 0.6138\n",
      "Epoch 49/50\n",
      "668/668 [==============================] - 4s 6ms/step - loss: 0.3862 - accuracy: 0.6138: 0s - loss: 0\n",
      "Epoch 50/50\n",
      "668/668 [==============================] - 4s 6ms/step - loss: 0.3862 - accuracy: 0.6138\n"
     ]
    },
    {
     "data": {
      "text/plain": [
       "<keras.callbacks.History at 0x25f9ece3d60>"
      ]
     },
     "execution_count": 21,
     "metadata": {},
     "output_type": "execute_result"
    }
   ],
   "source": [
    "model.compile(loss = \"MeanSquaredError\" , optimizer = \"adam\" , metrics = ['accuracy'])\n",
    "model.fit(X_train , y_train , epochs = 50 , batch_size = 1)"
   ]
  },
  {
   "cell_type": "code",
   "execution_count": null,
   "id": "6c36043c",
   "metadata": {},
   "outputs": [],
   "source": []
  }
 ],
 "metadata": {
  "kernelspec": {
   "display_name": "Python 3 (ipykernel)",
   "language": "python",
   "name": "python3"
  },
  "language_info": {
   "codemirror_mode": {
    "name": "ipython",
    "version": 3
   },
   "file_extension": ".py",
   "mimetype": "text/x-python",
   "name": "python",
   "nbconvert_exporter": "python",
   "pygments_lexer": "ipython3",
   "version": "3.9.12"
  }
 },
 "nbformat": 4,
 "nbformat_minor": 5
}
