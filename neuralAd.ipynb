{
 "cells": [
  {
   "cell_type": "code",
   "execution_count": 404,
   "id": "da87aff1",
   "metadata": {},
   "outputs": [],
   "source": [
    "import pandas as pd\n",
    "df = pd.read_csv('projet.csv')"
   ]
  },
  {
   "cell_type": "code",
   "execution_count": 405,
   "id": "7bdc0b89",
   "metadata": {},
   "outputs": [],
   "source": [
    "import numpy as np\n",
    "\n",
    "# créer une nouvelle colonne de titre\n",
    "df['Title'] = df['Name'].str.extract('([A-Za-z]+)\\.', expand=True)\n",
    "\n",
    "\n",
    "# remplacer les titres rares par des titres plus courants\n",
    "mapping = {'Mlle': 'Miss', 'Major': 'Mr', 'Col': 'Mr', 'Sir': 'Mr',\n",
    "           'Don': 'Mr', 'Mme': 'Mrs', 'Jonkheer': 'Mr', 'Lady': 'Mrs',\n",
    "           'Capt': 'Mr', 'Countess': 'Mrs', 'Ms': 'Miss', 'Dona': 'Mrs'}\n",
    "df.replace({'Title': mapping}, inplace=True)\n",
    "\n",
    "df['Title'].value_counts()\n",
    "\n",
    "\n",
    "title_ages = dict(df.groupby('Title')['Age'].median())\n",
    "\n",
    "# créer une colonne des âges moyens\n",
    "df['age_med'] = df['Title'].apply(lambda x: title_ages[x])\n",
    "\n",
    "df['Age'].fillna(df['age_med'], inplace=True, )\n",
    "del df['age_med']"
   ]
  },
  {
   "cell_type": "code",
   "execution_count": 406,
   "id": "a28889e1",
   "metadata": {},
   "outputs": [
    {
     "name": "stdout",
     "output_type": "stream",
     "text": [
      "   PassengerId  Survived  Pclass  \\\n",
      "0            1         0       3   \n",
      "1            2         1       1   \n",
      "2            3         1       3   \n",
      "3            4         1       1   \n",
      "4            5         0       3   \n",
      "\n",
      "                                                Name  Sex   Age  SibSp  Parch  \\\n",
      "0                            Braund, Mr. Owen Harris    1  22.0      1      0   \n",
      "1  Cumings, Mrs. John Bradley (Florence Briggs Th...    1  38.0      1      0   \n",
      "2                             Heikkinen, Miss. Laina    1  26.0      0      0   \n",
      "3       Futrelle, Mrs. Jacques Heath (Lily May Peel)    1  35.0      1      0   \n",
      "4                           Allen, Mr. William Henry    1  35.0      0      0   \n",
      "\n",
      "             Ticket     Fare Cabin Embarked Title  Family_Size  \n",
      "0         A/5 21171   7.2500   NaN        S    Mr            1  \n",
      "1          PC 17599  71.2833   C85        C   Mrs            1  \n",
      "2  STON/O2. 3101282   7.9250   NaN        S  Miss            0  \n",
      "3            113803  53.1000  C123        S   Mrs            1  \n",
      "4            373450   8.0500   NaN        S    Mr            0  \n"
     ]
    }
   ],
   "source": [
    "#df['Embarked'] = df['Embarked'].fillna('S')\n",
    "df['Embarked'].fillna(method='backfill', inplace=True)\n",
    "\n",
    "# créer la colonne Family_Size (Parch + SibSp)\n",
    "df['Family_Size'] = df['Parch'] + df['SibSp']\n",
    "df['Sex'] = [0 if x==\"male\" else 1 for x in df[\"Embarked\"]]\n",
    "\n",
    "print(df.head())"
   ]
  },
  {
   "cell_type": "code",
   "execution_count": 407,
   "id": "4240f9d6",
   "metadata": {},
   "outputs": [
    {
     "name": "stdout",
     "output_type": "stream",
     "text": [
      "     Pclass  Sex   Age  SibSp  Parch     Fare  Family_Size  Embarked_C  \\\n",
      "0         3    1  22.0      1      0   7.2500            1           0   \n",
      "1         1    1  38.0      1      0  71.2833            1           1   \n",
      "2         3    1  26.0      0      0   7.9250            0           0   \n",
      "3         1    1  35.0      1      0  53.1000            1           0   \n",
      "4         3    1  35.0      0      0   8.0500            0           0   \n",
      "..      ...  ...   ...    ...    ...      ...          ...         ...   \n",
      "886       2    1  27.0      0      0  13.0000            0           0   \n",
      "887       1    1  19.0      0      0  30.0000            0           0   \n",
      "888       3    1  21.0      1      2  23.4500            3           0   \n",
      "889       1    1  26.0      0      0  30.0000            0           1   \n",
      "890       3    1  32.0      0      0   7.7500            0           0   \n",
      "\n",
      "     Embarked_Q  Embarked_S  Title_Dr  Title_Master  Title_Miss  Title_Mr  \\\n",
      "0             0           1         0             0           0         1   \n",
      "1             0           0         0             0           0         0   \n",
      "2             0           1         0             0           1         0   \n",
      "3             0           1         0             0           0         0   \n",
      "4             0           1         0             0           0         1   \n",
      "..          ...         ...       ...           ...         ...       ...   \n",
      "886           0           1         0             0           0         0   \n",
      "887           0           1         0             0           1         0   \n",
      "888           0           1         0             0           1         0   \n",
      "889           0           0         0             0           0         1   \n",
      "890           1           0         0             0           0         1   \n",
      "\n",
      "     Title_Mrs  Title_Rev  \n",
      "0            0          0  \n",
      "1            1          0  \n",
      "2            0          0  \n",
      "3            1          0  \n",
      "4            0          0  \n",
      "..         ...        ...  \n",
      "886          0          1  \n",
      "887          0          0  \n",
      "888          0          0  \n",
      "889          0          0  \n",
      "890          0          0  \n",
      "\n",
      "[891 rows x 16 columns]\n"
     ]
    }
   ],
   "source": [
    "data = df.drop(['Survived' , 'PassengerId' , 'Name' , 'Ticket' , 'Cabin'] , axis = 1)\n",
    "#Convertir une variable en plusieurs variables\n",
    "dataset = pd.get_dummies(data , columns = ['Embarked', 'Title']  , drop_first = False) \n",
    "properties = list(dataset.columns.values)\n",
    "X = dataset[properties]\n",
    "y = df['Survived']\n",
    "print(X)"
   ]
  },
  {
   "cell_type": "code",
   "execution_count": 408,
   "id": "19b3d964",
   "metadata": {},
   "outputs": [],
   "source": [
    "from sklearn.model_selection import train_test_split\n",
    "X_train, X_test, y_train, y_test = train_test_split(X, y, test_size=0.33 ,random_state = 0)\n",
    "\n",
    "from sklearn.preprocessing import StandardScaler\n",
    "# Define the scaler \n",
    "scaler = StandardScaler().fit(X_train)\n",
    "\n",
    "# Scale the train set\n",
    "X_train = scaler.transform(X_train)\n",
    "\n",
    "# Scale the test set\n",
    "X_test = scaler.transform(X_test)"
   ]
  },
  {
   "cell_type": "code",
   "execution_count": 409,
   "id": "7d13d62c",
   "metadata": {},
   "outputs": [
    {
     "name": "stdout",
     "output_type": "stream",
     "text": [
      "Model: \"sequential_47\"\n",
      "_________________________________________________________________\n",
      "Layer (type)                 Output Shape              Param #   \n",
      "=================================================================\n",
      "dense_123 (Dense)            (None, 50)                850       \n",
      "_________________________________________________________________\n",
      "dense_124 (Dense)            (None, 1)                 51        \n",
      "=================================================================\n",
      "Total params: 901\n",
      "Trainable params: 901\n",
      "Non-trainable params: 0\n",
      "_________________________________________________________________\n",
      "None\n"
     ]
    }
   ],
   "source": [
    "import tensorflow as tf\n",
    "from tensorflow import keras\n",
    "from tensorflow.keras import layers\n",
    "\n",
    "\n",
    "model = keras.Sequential([\n",
    "    #keras.layers.Flatten(input_shape=(X.shape[1],)),\n",
    "\tkeras.layers.Dense(50, input_shape=(X.shape[1],) , activation=tf.nn.relu),\n",
    "    keras.layers.Dense(1,  activation=tf.nn.sigmoid),\n",
    "])\n",
    "\n",
    "print(model.summary())"
   ]
  },
  {
   "cell_type": "code",
   "execution_count": 410,
   "id": "a9dedaf0",
   "metadata": {},
   "outputs": [],
   "source": [
    "model.compile(optimizer='adam',loss='binary_crossentropy',metrics=['accuracy'])"
   ]
  },
  {
   "cell_type": "code",
   "execution_count": 411,
   "id": "15d545ad",
   "metadata": {},
   "outputs": [
    {
     "name": "stdout",
     "output_type": "stream",
     "text": [
      "Epoch 1/10\n",
      "596/596 [==============================] - 4s 5ms/step - loss: 0.5144 - accuracy: 0.7718\n",
      "Epoch 2/10\n",
      "596/596 [==============================] - 3s 5ms/step - loss: 0.4299 - accuracy: 0.8305: 0s - loss: 0.4343 - accuracy: 0.82\n",
      "Epoch 3/10\n",
      "596/596 [==============================] - 3s 5ms/step - loss: 0.4108 - accuracy: 0.8389\n",
      "Epoch 4/10\n",
      "596/596 [==============================] - 3s 5ms/step - loss: 0.4006 - accuracy: 0.8389: 0s - loss: 0.3957 - accuracy: 0. - ETA: 0s - loss: 0.4026 - \n",
      "Epoch 5/10\n",
      "596/596 [==============================] - 3s 5ms/step - loss: 0.3922 - accuracy: 0.8406: 3s - loss: 0.5345 - accura - ETA: 2s - loss: 0.4168 - accu - ETA: 2s - loss: 0.3789 - accuracy: 0. - ETA: 2s - loss: 0.3665  - ETA: 1s - loss: 0.3910  - ETA: 0s - loss: 0.3984 - accuracy\n",
      "Epoch 6/10\n",
      "596/596 [==============================] - 3s 5ms/step - loss: 0.3880 - accuracy: 0.8440\n",
      "Epoch 7/10\n",
      "596/596 [==============================] - 3s 5ms/step - loss: 0.3838 - accuracy: 0.8473: 2s -\n",
      "Epoch 8/10\n",
      "596/596 [==============================] - 3s 5ms/step - loss: 0.3798 - accuracy: 0.8490: 0s - los\n",
      "Epoch 9/10\n",
      "596/596 [==============================] - 3s 5ms/step - loss: 0.3752 - accuracy: 0.8490: 1s - loss: 0.371 - ETA - ETA: 0s - loss: 0.3748 - accuracy: 0.85\n",
      "Epoch 10/10\n",
      "596/596 [==============================] - 3s 5ms/step - loss: 0.3712 - accuracy: 0.8456: 2s - l - ETA: 0s - loss: 0.3671 - accu\n",
      "10/10 [==============================] - 1s 7ms/step - loss: 0.4243 - accuracy: 0.8237\n"
     ]
    }
   ],
   "source": [
    "model.fit(X_train,y_train,epochs=10, batch_size=1 , verbose=1)\n",
    "test_loss, test_acc = model.evaluate(X_test, y_test)"
   ]
  },
  {
   "cell_type": "code",
   "execution_count": 401,
   "id": "8f0e48dc",
   "metadata": {},
   "outputs": [],
   "source": [
    "import pandas as pd\n",
    "y_pred = model.predict(X_test)"
   ]
  },
  {
   "cell_type": "code",
   "execution_count": 402,
   "id": "37974b21",
   "metadata": {
    "scrolled": true
   },
   "outputs": [
    {
     "data": {
      "text/plain": [
       "array([[0.14851058],\n",
       "       [0.09699962],\n",
       "       [0.04702443],\n",
       "       [0.9905346 ],\n",
       "       [0.8870611 ]], dtype=float32)"
      ]
     },
     "execution_count": 402,
     "metadata": {},
     "output_type": "execute_result"
    }
   ],
   "source": [
    "import pandas as pd\n",
    "y_pred = model.predict(X_test)\n",
    "y_pred[0:5]"
   ]
  },
  {
   "cell_type": "code",
   "execution_count": 403,
   "id": "46cecd9f",
   "metadata": {},
   "outputs": [
    {
     "data": {
      "text/plain": [
       "495    0\n",
       "648    0\n",
       "278    0\n",
       "31     1\n",
       "255    1\n",
       "Name: Survived, dtype: int64"
      ]
     },
     "execution_count": 403,
     "metadata": {},
     "output_type": "execute_result"
    }
   ],
   "source": [
    "y_test.head(5)"
   ]
  },
  {
   "cell_type": "code",
   "execution_count": null,
   "id": "6e55c69f",
   "metadata": {},
   "outputs": [],
   "source": []
  },
  {
   "cell_type": "code",
   "execution_count": null,
   "id": "4729a927",
   "metadata": {},
   "outputs": [],
   "source": []
  },
  {
   "cell_type": "code",
   "execution_count": null,
   "id": "16294548",
   "metadata": {},
   "outputs": [],
   "source": []
  },
  {
   "cell_type": "code",
   "execution_count": null,
   "id": "6c06e195",
   "metadata": {},
   "outputs": [],
   "source": []
  }
 ],
 "metadata": {
  "kernelspec": {
   "display_name": "Python 3 (ipykernel)",
   "language": "python",
   "name": "python3"
  },
  "language_info": {
   "codemirror_mode": {
    "name": "ipython",
    "version": 3
   },
   "file_extension": ".py",
   "mimetype": "text/x-python",
   "name": "python",
   "nbconvert_exporter": "python",
   "pygments_lexer": "ipython3",
   "version": "3.9.12"
  }
 },
 "nbformat": 4,
 "nbformat_minor": 5
}
