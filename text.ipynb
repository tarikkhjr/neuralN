{
 "cells": [
  {
   "cell_type": "code",
   "execution_count": 49,
   "id": "1538ded5",
   "metadata": {},
   "outputs": [
    {
     "name": "stdout",
     "output_type": "stream",
     "text": [
      "   PassengerId  Survived  Pclass                     Name   Sex   Age  SibSp  \\\n",
      "0            1         0       3  Braund, Mr. Owen Harris  male  22.0      1   \n",
      "\n",
      "   Parch     Ticket  Fare Cabin Embarked  \n",
      "0      0  A/5 21171  7.25   NaN        S  \n"
     ]
    }
   ],
   "source": [
    "import pandas as pd\n",
    "df = pd.read_csv('python/projet.csv')\n",
    "print(df.head(1))"
   ]
  },
  {
   "cell_type": "code",
   "execution_count": 50,
   "id": "15e7c0d7",
   "metadata": {},
   "outputs": [
    {
     "name": "stdout",
     "output_type": "stream",
     "text": [
      "     Pclass  SibSp  Parch     Fare  Sex_male\n",
      "0         3      1      0   7.2500         1\n",
      "1         1      1      0  71.2833         0\n",
      "2         3      0      0   7.9250         0\n",
      "3         1      1      0  53.1000         0\n",
      "4         3      0      0   8.0500         1\n",
      "..      ...    ...    ...      ...       ...\n",
      "886       2      0      0  13.0000         1\n",
      "887       1      0      0  30.0000         0\n",
      "888       3      1      2  23.4500         0\n",
      "889       1      0      0  30.0000         1\n",
      "890       3      0      0   7.7500         1\n",
      "\n",
      "[891 rows x 5 columns]\n"
     ]
    }
   ],
   "source": [
    "data = df.drop(['Survived' , 'PassengerId' , 'Name' , 'Age', 'Ticket' , 'Cabin'  , 'Embarked'] , axis = 1)\n",
    "#Convertir une variable en plusieurs variables\n",
    "dataset = pd.get_dummies(data , columns = ['Sex']  , drop_first = True) \n",
    "y = df['Survived']\n",
    "print(dataset)"
   ]
  },
  {
   "cell_type": "code",
   "execution_count": 51,
   "id": "67fcec2c",
   "metadata": {},
   "outputs": [
    {
     "name": "stdout",
     "output_type": "stream",
     "text": [
      "     Pclass  SibSp  Parch     Fare  Sex_male\n",
      "709       3      1      1  15.2458         1\n",
      "439       2      0      0  10.5000         1\n",
      "840       3      0      0   7.9250         1\n",
      "720       2      0      1  33.0000         0\n",
      "39        3      1      0  11.2417         0\n",
      "..      ...    ...    ...      ...       ...\n",
      "715       3      0      0   7.6500         1\n",
      "525       3      0      0   7.7500         1\n",
      "381       3      0      2  15.7417         0\n",
      "140       3      0      2  15.2458         0\n",
      "173       3      0      0   7.9250         1\n",
      "\n",
      "[295 rows x 5 columns]\n"
     ]
    }
   ],
   "source": [
    "from sklearn.model_selection import train_test_split\n",
    "X_train , X_test , y_train , y_test = train_test_split(dataset , y , test_size = 0.33 , random_state = 42)\n",
    "\n",
    "\n",
    "\n",
    "#from sklearn.preprocessing import StandardScaler\n",
    "# Define the scaler \n",
    "#scaler = StandardScaler().fit(X_train)\n",
    "\n",
    "# Scale the train set\n",
    "#X_train = scaler.transform(X_train)\n",
    "\n",
    "# Scale the test set\n",
    "#X_test = scaler.transform(X_test)\n",
    "print(X_test)"
   ]
  },
  {
   "cell_type": "code",
   "execution_count": 52,
   "id": "8ac6cfb0",
   "metadata": {},
   "outputs": [],
   "source": [
    "import tensorflow as tf\n",
    "from tensorflow import keras\n",
    "from tensorflow.keras import layers\n",
    "\n",
    "\n",
    "\n",
    "model = keras.Sequential()\n",
    "model.add(layers.Dense(80 , activation = \"relu\" , input_shape=(X_train.shape[1],)  ))\n",
    "model.add(layers.Dense(50 , activation = \"relu\"))\n",
    "model.add(layers.Dense(20 , activation = \"relu\"))\n",
    "model.add(layers.Dense(20 , activation = \"relu\"))\n",
    "model.add(layers.Dense(1  , activation = \"sigmoid\"))\n",
    "#model.compile(optimizer=tf.keras.optimizers.Adam(learning_rate = 0.001),\n",
    "              #loss=tf.keras.losses.BinaryCrossentropy(),\n",
    "              #metrics=['accuracy'])"
   ]
  },
  {
   "cell_type": "code",
   "execution_count": 53,
   "id": "fbd23cb1",
   "metadata": {},
   "outputs": [
    {
     "name": "stdout",
     "output_type": "stream",
     "text": [
      "Epoch 1/10\n",
      "891/891 [==============================] - 6s 4ms/step - loss: 0.6536 - accuracy: 0.6543\n",
      "Epoch 2/10\n",
      "891/891 [==============================] - 4s 5ms/step - loss: 0.5772 - accuracy: 0.6768\n",
      "Epoch 3/10\n",
      "891/891 [==============================] - 4s 5ms/step - loss: 0.5765 - accuracy: 0.6857\n",
      "Epoch 4/10\n",
      "891/891 [==============================] - 4s 5ms/step - loss: 0.5469 - accuracy: 0.7363\n",
      "Epoch 5/10\n",
      "891/891 [==============================] - 4s 5ms/step - loss: 0.5605 - accuracy: 0.7284\n",
      "Epoch 6/10\n",
      "891/891 [==============================] - 4s 5ms/step - loss: 0.5123 - accuracy: 0.7688\n",
      "Epoch 7/10\n",
      "891/891 [==============================] - 4s 5ms/step - loss: 0.5250 - accuracy: 0.7486\n",
      "Epoch 8/10\n",
      "891/891 [==============================] - 4s 5ms/step - loss: 0.5067 - accuracy: 0.7688: 1s\n",
      "Epoch 9/10\n",
      "891/891 [==============================] - 4s 5ms/step - loss: 0.5074 - accuracy: 0.7643: 0s\n",
      "Epoch 10/10\n",
      "891/891 [==============================] - 4s 5ms/step - loss: 0.5011 - accuracy: 0.7755\n",
      "10/10 [==============================] - 1s 4ms/step - loss: 0.4562 - accuracy: 0.7898\n"
     ]
    }
   ],
   "source": [
    "model.compile(loss = \"binary_crossentropy\" , optimizer = \"adam\" , metrics = ['accuracy'])\n",
    "model.fit(dataset,y,epochs=10, batch_size=1 , verbose=1)\n",
    "test_loss, test_acc = model.evaluate(X_test, y_test)"
   ]
  },
  {
   "cell_type": "code",
   "execution_count": 54,
   "id": "1af12642",
   "metadata": {},
   "outputs": [
    {
     "name": "stdout",
     "output_type": "stream",
     "text": [
      "     Pclass  SibSp  Parch     Fare  Sex_male\n",
      "709       3      1      1  15.2458         1\n",
      "439       2      0      0  10.5000         1\n",
      "840       3      0      0   7.9250         1\n",
      "720       2      0      1  33.0000         0\n",
      "39        3      1      0  11.2417         0\n",
      "..      ...    ...    ...      ...       ...\n",
      "715       3      0      0   7.6500         1\n",
      "525       3      0      0   7.7500         1\n",
      "381       3      0      2  15.7417         0\n",
      "140       3      0      2  15.2458         0\n",
      "173       3      0      0   7.9250         1\n",
      "\n",
      "[295 rows x 5 columns]\n"
     ]
    }
   ],
   "source": [
    "import pandas as pd\n",
    "y_pred = model.predict(X_test)\n",
    "print(X_test)"
   ]
  },
  {
   "cell_type": "code",
   "execution_count": 55,
   "id": "3b6daf75",
   "metadata": {},
   "outputs": [
    {
     "data": {
      "text/plain": [
       "array([[0.19639227],\n",
       "       [0.15985817],\n",
       "       [0.7142638 ],\n",
       "       [0.5749578 ],\n",
       "       [0.7783469 ],\n",
       "       [0.65239245],\n",
       "       [0.21267155],\n",
       "       [0.65239245],\n",
       "       [0.6906243 ],\n",
       "       [0.47323528],\n",
       "       [0.16039348],\n",
       "       [0.34032893],\n",
       "       [0.15688664],\n",
       "       [0.21180362]], dtype=float32)"
      ]
     },
     "execution_count": 55,
     "metadata": {},
     "output_type": "execute_result"
    }
   ],
   "source": [
    "y_pred[1:15]"
   ]
  },
  {
   "cell_type": "code",
   "execution_count": 16,
   "id": "d0f94760",
   "metadata": {},
   "outputs": [
    {
     "data": {
      "text/plain": [
       "439    0\n",
       "840    0\n",
       "720    1\n",
       "39     1\n",
       "290    1\n",
       "300    1\n",
       "333    0\n",
       "208    1\n",
       "136    1\n",
       "137    0\n",
       "696    0\n",
       "485    0\n",
       "244    0\n",
       "344    0\n",
       "Name: Survived, dtype: int64"
      ]
     },
     "execution_count": 16,
     "metadata": {},
     "output_type": "execute_result"
    }
   ],
   "source": [
    "y_test[1:15]"
   ]
  },
  {
   "cell_type": "code",
   "execution_count": null,
   "id": "ac863de7",
   "metadata": {},
   "outputs": [],
   "source": []
  },
  {
   "cell_type": "code",
   "execution_count": null,
   "id": "e0c0f6cf",
   "metadata": {},
   "outputs": [],
   "source": []
  }
 ],
 "metadata": {
  "kernelspec": {
   "display_name": "Python 3 (ipykernel)",
   "language": "python",
   "name": "python3"
  },
  "language_info": {
   "codemirror_mode": {
    "name": "ipython",
    "version": 3
   },
   "file_extension": ".py",
   "mimetype": "text/x-python",
   "name": "python",
   "nbconvert_exporter": "python",
   "pygments_lexer": "ipython3",
   "version": "3.9.12"
  }
 },
 "nbformat": 4,
 "nbformat_minor": 5
}
